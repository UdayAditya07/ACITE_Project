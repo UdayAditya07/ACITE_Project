{
 "cells": [
  {
   "cell_type": "code",
   "execution_count": 1,
   "id": "4b2c2f9c",
   "metadata": {},
   "outputs": [],
   "source": [
    "import numpy as np\n",
    "import pandas as pd\n",
    "import matplotlib.pyplot as plt\n",
    "import seaborn as sns"
   ]
  },
  {
   "cell_type": "code",
   "execution_count": 2,
   "id": "2b775306",
   "metadata": {},
   "outputs": [],
   "source": [
    "df=pd.read_csv('Datasets/heart_disease_data.csv')"
   ]
  },
  {
   "cell_type": "code",
   "execution_count": 3,
   "id": "8d95140d",
   "metadata": {},
   "outputs": [
    {
     "data": {
      "text/html": [
       "<div>\n",
       "<style scoped>\n",
       "    .dataframe tbody tr th:only-of-type {\n",
       "        vertical-align: middle;\n",
       "    }\n",
       "\n",
       "    .dataframe tbody tr th {\n",
       "        vertical-align: top;\n",
       "    }\n",
       "\n",
       "    .dataframe thead th {\n",
       "        text-align: right;\n",
       "    }\n",
       "</style>\n",
       "<table border=\"1\" class=\"dataframe\">\n",
       "  <thead>\n",
       "    <tr style=\"text-align: right;\">\n",
       "      <th></th>\n",
       "      <th>age</th>\n",
       "      <th>sex</th>\n",
       "      <th>cp</th>\n",
       "      <th>trestbps</th>\n",
       "      <th>chol</th>\n",
       "      <th>fbs</th>\n",
       "      <th>restecg</th>\n",
       "      <th>thalach</th>\n",
       "      <th>exang</th>\n",
       "      <th>oldpeak</th>\n",
       "      <th>slope</th>\n",
       "      <th>ca</th>\n",
       "      <th>thal</th>\n",
       "      <th>target</th>\n",
       "    </tr>\n",
       "  </thead>\n",
       "  <tbody>\n",
       "    <tr>\n",
       "      <th>0</th>\n",
       "      <td>63</td>\n",
       "      <td>1</td>\n",
       "      <td>3</td>\n",
       "      <td>145</td>\n",
       "      <td>233</td>\n",
       "      <td>1</td>\n",
       "      <td>0</td>\n",
       "      <td>150</td>\n",
       "      <td>0</td>\n",
       "      <td>2.3</td>\n",
       "      <td>0</td>\n",
       "      <td>0</td>\n",
       "      <td>1</td>\n",
       "      <td>1</td>\n",
       "    </tr>\n",
       "    <tr>\n",
       "      <th>1</th>\n",
       "      <td>37</td>\n",
       "      <td>1</td>\n",
       "      <td>2</td>\n",
       "      <td>130</td>\n",
       "      <td>250</td>\n",
       "      <td>0</td>\n",
       "      <td>1</td>\n",
       "      <td>187</td>\n",
       "      <td>0</td>\n",
       "      <td>3.5</td>\n",
       "      <td>0</td>\n",
       "      <td>0</td>\n",
       "      <td>2</td>\n",
       "      <td>1</td>\n",
       "    </tr>\n",
       "    <tr>\n",
       "      <th>2</th>\n",
       "      <td>41</td>\n",
       "      <td>0</td>\n",
       "      <td>1</td>\n",
       "      <td>130</td>\n",
       "      <td>204</td>\n",
       "      <td>0</td>\n",
       "      <td>0</td>\n",
       "      <td>172</td>\n",
       "      <td>0</td>\n",
       "      <td>1.4</td>\n",
       "      <td>2</td>\n",
       "      <td>0</td>\n",
       "      <td>2</td>\n",
       "      <td>1</td>\n",
       "    </tr>\n",
       "    <tr>\n",
       "      <th>3</th>\n",
       "      <td>56</td>\n",
       "      <td>1</td>\n",
       "      <td>1</td>\n",
       "      <td>120</td>\n",
       "      <td>236</td>\n",
       "      <td>0</td>\n",
       "      <td>1</td>\n",
       "      <td>178</td>\n",
       "      <td>0</td>\n",
       "      <td>0.8</td>\n",
       "      <td>2</td>\n",
       "      <td>0</td>\n",
       "      <td>2</td>\n",
       "      <td>1</td>\n",
       "    </tr>\n",
       "    <tr>\n",
       "      <th>4</th>\n",
       "      <td>57</td>\n",
       "      <td>0</td>\n",
       "      <td>0</td>\n",
       "      <td>120</td>\n",
       "      <td>354</td>\n",
       "      <td>0</td>\n",
       "      <td>1</td>\n",
       "      <td>163</td>\n",
       "      <td>1</td>\n",
       "      <td>0.6</td>\n",
       "      <td>2</td>\n",
       "      <td>0</td>\n",
       "      <td>2</td>\n",
       "      <td>1</td>\n",
       "    </tr>\n",
       "  </tbody>\n",
       "</table>\n",
       "</div>"
      ],
      "text/plain": [
       "   age  sex  cp  trestbps  chol  fbs  restecg  thalach  exang  oldpeak  slope  \\\n",
       "0   63    1   3       145   233    1        0      150      0      2.3      0   \n",
       "1   37    1   2       130   250    0        1      187      0      3.5      0   \n",
       "2   41    0   1       130   204    0        0      172      0      1.4      2   \n",
       "3   56    1   1       120   236    0        1      178      0      0.8      2   \n",
       "4   57    0   0       120   354    0        1      163      1      0.6      2   \n",
       "\n",
       "   ca  thal  target  \n",
       "0   0     1       1  \n",
       "1   0     2       1  \n",
       "2   0     2       1  \n",
       "3   0     2       1  \n",
       "4   0     2       1  "
      ]
     },
     "execution_count": 3,
     "metadata": {},
     "output_type": "execute_result"
    }
   ],
   "source": [
    "df.head()"
   ]
  },
  {
   "cell_type": "code",
   "execution_count": 4,
   "id": "1e614c6a",
   "metadata": {},
   "outputs": [
    {
     "data": {
      "text/plain": [
       "age         0\n",
       "sex         0\n",
       "cp          0\n",
       "trestbps    0\n",
       "chol        0\n",
       "fbs         0\n",
       "restecg     0\n",
       "thalach     0\n",
       "exang       0\n",
       "oldpeak     0\n",
       "slope       0\n",
       "ca          0\n",
       "thal        0\n",
       "target      0\n",
       "dtype: int64"
      ]
     },
     "execution_count": 4,
     "metadata": {},
     "output_type": "execute_result"
    }
   ],
   "source": [
    "df.isnull().sum()"
   ]
  },
  {
   "cell_type": "code",
   "execution_count": 5,
   "id": "8eb6b486",
   "metadata": {},
   "outputs": [
    {
     "name": "stdout",
     "output_type": "stream",
     "text": [
      "<class 'pandas.core.frame.DataFrame'>\n",
      "RangeIndex: 303 entries, 0 to 302\n",
      "Data columns (total 14 columns):\n",
      " #   Column    Non-Null Count  Dtype  \n",
      "---  ------    --------------  -----  \n",
      " 0   age       303 non-null    int64  \n",
      " 1   sex       303 non-null    int64  \n",
      " 2   cp        303 non-null    int64  \n",
      " 3   trestbps  303 non-null    int64  \n",
      " 4   chol      303 non-null    int64  \n",
      " 5   fbs       303 non-null    int64  \n",
      " 6   restecg   303 non-null    int64  \n",
      " 7   thalach   303 non-null    int64  \n",
      " 8   exang     303 non-null    int64  \n",
      " 9   oldpeak   303 non-null    float64\n",
      " 10  slope     303 non-null    int64  \n",
      " 11  ca        303 non-null    int64  \n",
      " 12  thal      303 non-null    int64  \n",
      " 13  target    303 non-null    int64  \n",
      "dtypes: float64(1), int64(13)\n",
      "memory usage: 33.3 KB\n"
     ]
    }
   ],
   "source": [
    "df.info()"
   ]
  },
  {
   "cell_type": "code",
   "execution_count": 6,
   "id": "c1402fe0",
   "metadata": {},
   "outputs": [
    {
     "data": {
      "text/html": [
       "<div>\n",
       "<style scoped>\n",
       "    .dataframe tbody tr th:only-of-type {\n",
       "        vertical-align: middle;\n",
       "    }\n",
       "\n",
       "    .dataframe tbody tr th {\n",
       "        vertical-align: top;\n",
       "    }\n",
       "\n",
       "    .dataframe thead th {\n",
       "        text-align: right;\n",
       "    }\n",
       "</style>\n",
       "<table border=\"1\" class=\"dataframe\">\n",
       "  <thead>\n",
       "    <tr style=\"text-align: right;\">\n",
       "      <th></th>\n",
       "      <th>age</th>\n",
       "      <th>sex</th>\n",
       "      <th>cp</th>\n",
       "      <th>trestbps</th>\n",
       "      <th>chol</th>\n",
       "      <th>fbs</th>\n",
       "      <th>restecg</th>\n",
       "      <th>thalach</th>\n",
       "      <th>exang</th>\n",
       "      <th>oldpeak</th>\n",
       "      <th>slope</th>\n",
       "      <th>ca</th>\n",
       "      <th>thal</th>\n",
       "      <th>target</th>\n",
       "    </tr>\n",
       "  </thead>\n",
       "  <tbody>\n",
       "    <tr>\n",
       "      <th>count</th>\n",
       "      <td>303.000000</td>\n",
       "      <td>303.000000</td>\n",
       "      <td>303.000000</td>\n",
       "      <td>303.000000</td>\n",
       "      <td>303.000000</td>\n",
       "      <td>303.000000</td>\n",
       "      <td>303.000000</td>\n",
       "      <td>303.000000</td>\n",
       "      <td>303.000000</td>\n",
       "      <td>303.000000</td>\n",
       "      <td>303.000000</td>\n",
       "      <td>303.000000</td>\n",
       "      <td>303.000000</td>\n",
       "      <td>303.000000</td>\n",
       "    </tr>\n",
       "    <tr>\n",
       "      <th>mean</th>\n",
       "      <td>54.366337</td>\n",
       "      <td>0.683168</td>\n",
       "      <td>0.966997</td>\n",
       "      <td>131.623762</td>\n",
       "      <td>246.264026</td>\n",
       "      <td>0.148515</td>\n",
       "      <td>0.528053</td>\n",
       "      <td>149.646865</td>\n",
       "      <td>0.326733</td>\n",
       "      <td>1.039604</td>\n",
       "      <td>1.399340</td>\n",
       "      <td>0.729373</td>\n",
       "      <td>2.313531</td>\n",
       "      <td>0.544554</td>\n",
       "    </tr>\n",
       "    <tr>\n",
       "      <th>std</th>\n",
       "      <td>9.082101</td>\n",
       "      <td>0.466011</td>\n",
       "      <td>1.032052</td>\n",
       "      <td>17.538143</td>\n",
       "      <td>51.830751</td>\n",
       "      <td>0.356198</td>\n",
       "      <td>0.525860</td>\n",
       "      <td>22.905161</td>\n",
       "      <td>0.469794</td>\n",
       "      <td>1.161075</td>\n",
       "      <td>0.616226</td>\n",
       "      <td>1.022606</td>\n",
       "      <td>0.612277</td>\n",
       "      <td>0.498835</td>\n",
       "    </tr>\n",
       "    <tr>\n",
       "      <th>min</th>\n",
       "      <td>29.000000</td>\n",
       "      <td>0.000000</td>\n",
       "      <td>0.000000</td>\n",
       "      <td>94.000000</td>\n",
       "      <td>126.000000</td>\n",
       "      <td>0.000000</td>\n",
       "      <td>0.000000</td>\n",
       "      <td>71.000000</td>\n",
       "      <td>0.000000</td>\n",
       "      <td>0.000000</td>\n",
       "      <td>0.000000</td>\n",
       "      <td>0.000000</td>\n",
       "      <td>0.000000</td>\n",
       "      <td>0.000000</td>\n",
       "    </tr>\n",
       "    <tr>\n",
       "      <th>25%</th>\n",
       "      <td>47.500000</td>\n",
       "      <td>0.000000</td>\n",
       "      <td>0.000000</td>\n",
       "      <td>120.000000</td>\n",
       "      <td>211.000000</td>\n",
       "      <td>0.000000</td>\n",
       "      <td>0.000000</td>\n",
       "      <td>133.500000</td>\n",
       "      <td>0.000000</td>\n",
       "      <td>0.000000</td>\n",
       "      <td>1.000000</td>\n",
       "      <td>0.000000</td>\n",
       "      <td>2.000000</td>\n",
       "      <td>0.000000</td>\n",
       "    </tr>\n",
       "    <tr>\n",
       "      <th>50%</th>\n",
       "      <td>55.000000</td>\n",
       "      <td>1.000000</td>\n",
       "      <td>1.000000</td>\n",
       "      <td>130.000000</td>\n",
       "      <td>240.000000</td>\n",
       "      <td>0.000000</td>\n",
       "      <td>1.000000</td>\n",
       "      <td>153.000000</td>\n",
       "      <td>0.000000</td>\n",
       "      <td>0.800000</td>\n",
       "      <td>1.000000</td>\n",
       "      <td>0.000000</td>\n",
       "      <td>2.000000</td>\n",
       "      <td>1.000000</td>\n",
       "    </tr>\n",
       "    <tr>\n",
       "      <th>75%</th>\n",
       "      <td>61.000000</td>\n",
       "      <td>1.000000</td>\n",
       "      <td>2.000000</td>\n",
       "      <td>140.000000</td>\n",
       "      <td>274.500000</td>\n",
       "      <td>0.000000</td>\n",
       "      <td>1.000000</td>\n",
       "      <td>166.000000</td>\n",
       "      <td>1.000000</td>\n",
       "      <td>1.600000</td>\n",
       "      <td>2.000000</td>\n",
       "      <td>1.000000</td>\n",
       "      <td>3.000000</td>\n",
       "      <td>1.000000</td>\n",
       "    </tr>\n",
       "    <tr>\n",
       "      <th>max</th>\n",
       "      <td>77.000000</td>\n",
       "      <td>1.000000</td>\n",
       "      <td>3.000000</td>\n",
       "      <td>200.000000</td>\n",
       "      <td>564.000000</td>\n",
       "      <td>1.000000</td>\n",
       "      <td>2.000000</td>\n",
       "      <td>202.000000</td>\n",
       "      <td>1.000000</td>\n",
       "      <td>6.200000</td>\n",
       "      <td>2.000000</td>\n",
       "      <td>4.000000</td>\n",
       "      <td>3.000000</td>\n",
       "      <td>1.000000</td>\n",
       "    </tr>\n",
       "  </tbody>\n",
       "</table>\n",
       "</div>"
      ],
      "text/plain": [
       "              age         sex          cp    trestbps        chol         fbs  \\\n",
       "count  303.000000  303.000000  303.000000  303.000000  303.000000  303.000000   \n",
       "mean    54.366337    0.683168    0.966997  131.623762  246.264026    0.148515   \n",
       "std      9.082101    0.466011    1.032052   17.538143   51.830751    0.356198   \n",
       "min     29.000000    0.000000    0.000000   94.000000  126.000000    0.000000   \n",
       "25%     47.500000    0.000000    0.000000  120.000000  211.000000    0.000000   \n",
       "50%     55.000000    1.000000    1.000000  130.000000  240.000000    0.000000   \n",
       "75%     61.000000    1.000000    2.000000  140.000000  274.500000    0.000000   \n",
       "max     77.000000    1.000000    3.000000  200.000000  564.000000    1.000000   \n",
       "\n",
       "          restecg     thalach       exang     oldpeak       slope          ca  \\\n",
       "count  303.000000  303.000000  303.000000  303.000000  303.000000  303.000000   \n",
       "mean     0.528053  149.646865    0.326733    1.039604    1.399340    0.729373   \n",
       "std      0.525860   22.905161    0.469794    1.161075    0.616226    1.022606   \n",
       "min      0.000000   71.000000    0.000000    0.000000    0.000000    0.000000   \n",
       "25%      0.000000  133.500000    0.000000    0.000000    1.000000    0.000000   \n",
       "50%      1.000000  153.000000    0.000000    0.800000    1.000000    0.000000   \n",
       "75%      1.000000  166.000000    1.000000    1.600000    2.000000    1.000000   \n",
       "max      2.000000  202.000000    1.000000    6.200000    2.000000    4.000000   \n",
       "\n",
       "             thal      target  \n",
       "count  303.000000  303.000000  \n",
       "mean     2.313531    0.544554  \n",
       "std      0.612277    0.498835  \n",
       "min      0.000000    0.000000  \n",
       "25%      2.000000    0.000000  \n",
       "50%      2.000000    1.000000  \n",
       "75%      3.000000    1.000000  \n",
       "max      3.000000    1.000000  "
      ]
     },
     "execution_count": 6,
     "metadata": {},
     "output_type": "execute_result"
    }
   ],
   "source": [
    "df.describe()"
   ]
  },
  {
   "cell_type": "code",
   "execution_count": 11,
   "id": "b8c673a3",
   "metadata": {},
   "outputs": [
    {
     "data": {
      "text/plain": [
       "1    165\n",
       "0    138\n",
       "Name: target, dtype: int64"
      ]
     },
     "execution_count": 11,
     "metadata": {},
     "output_type": "execute_result"
    }
   ],
   "source": [
    "df['target'].value_counts()"
   ]
  },
  {
   "cell_type": "code",
   "execution_count": 16,
   "id": "9b61f70f",
   "metadata": {},
   "outputs": [],
   "source": [
    "X=df.drop(columns='target',axis=1)"
   ]
  },
  {
   "cell_type": "code",
   "execution_count": 17,
   "id": "3b2a4300",
   "metadata": {},
   "outputs": [],
   "source": [
    "Y=df['target']"
   ]
  },
  {
   "cell_type": "code",
   "execution_count": 26,
   "id": "19752301",
   "metadata": {},
   "outputs": [
    {
     "data": {
      "text/plain": [
       "<AxesSubplot:xlabel='age', ylabel='target'>"
      ]
     },
     "execution_count": 26,
     "metadata": {},
     "output_type": "execute_result"
    },
    {
     "data": {
      "image/png": "[encoded data removed]",
      "text/plain": [
       "<Figure size 2000x800 with 1 Axes>"
      ]
     },
     "metadata": {},
     "output_type": "display_data"
    }
   ],
   "source": [
    "plt.figure(figsize=(10,4),dpi=200)\n",
    "sns.barplot(x=df['age'],y=df['target'])"
   ]
  },
  {
   "cell_type": "code",
   "execution_count": 28,
   "id": "6df9a391",
   "metadata": {},
   "outputs": [
    {
     "data": {
      "text/plain": [
       "<AxesSubplot:xlabel='target', ylabel='count'>"
      ]
     },
     "execution_count": 28,
     "metadata": {},
     "output_type": "execute_result"
    },
    {
     "data": {
      "image/png": "[encoded data removed]",
      "text/plain": [
       "<Figure size 640x480 with 1 Axes>"
      ]
     },
     "metadata": {},
     "output_type": "display_data"
    }
   ],
   "source": [
    "sns.countplot(x='target',data=df)"
   ]
  },
  {
   "cell_type": "code",
   "execution_count": 31,
   "id": "03361c05",
   "metadata": {},
   "outputs": [],
   "source": [
    "from sklearn.preprocessing import StandardScaler"
   ]
  },
  {
   "cell_type": "code",
   "execution_count": 32,
   "id": "88eeb954",
   "metadata": {},
   "outputs": [],
   "source": [
    "scaler=StandardScaler()\n",
    "X_scaled=scaler.fit_transform(X)"
   ]
  },
  {
   "cell_type": "code",
   "execution_count": 30,
   "id": "8fa728e3",
   "metadata": {},
   "outputs": [],
   "source": [
    "from sklearn.model_selection import train_test_split"
   ]
  },
  {
   "cell_type": "code",
   "execution_count": 39,
   "id": "d2c2bd54",
   "metadata": {},
   "outputs": [],
   "source": [
    "X_train, X_test, y_train, y_test = train_test_split(X_scaled, Y, test_size=0.33, random_state=42)"
   ]
  },
  {
   "cell_type": "code",
   "execution_count": 34,
   "id": "5e6f3d4a",
   "metadata": {},
   "outputs": [],
   "source": [
    "from sklearn.ensemble import RandomForestClassifier"
   ]
  },
  {
   "cell_type": "code",
   "execution_count": 35,
   "id": "639be2e8",
   "metadata": {},
   "outputs": [],
   "source": [
    "n_estimators=[64,100,128,200]\n",
    "max_features=[5,9,7,12]\n",
    "bootstrap=[True,False]\n",
    "oob_score=[True,False]"
   ]
  },
  {
   "cell_type": "code",
   "execution_count": 36,
   "id": "8ec6819e",
   "metadata": {},
   "outputs": [],
   "source": [
    "param_grid={'n_estimators':n_estimators,'max_features':max_features,'bootstrap':bootstrap,'oob_score':oob_score}"
   ]
  },
  {
   "cell_type": "code",
   "execution_count": 37,
   "id": "b083bd0e",
   "metadata": {},
   "outputs": [],
   "source": [
    "from sklearn.model_selection import GridSearchCV"
   ]
  },
  {
   "cell_type": "code",
   "execution_count": 41,
   "id": "e9b10c10",
   "metadata": {},
   "outputs": [],
   "source": [
    "rfc=RandomForestClassifier()\n",
    "grid_model = GridSearchCV(rfc,param_grid,verbose=2)"
   ]
  },
  {
   "cell_type": "code",
   "execution_count": 42,
   "id": "58cfca08",
   "metadata": {},
   "outputs": [
    {
     "name": "stdout",
     "output_type": "stream",
     "text": [
      "Fitting 5 folds for each of 64 candidates, totalling 320 fits\n",
      "[CV] END bootstrap=True, max_features=5, n_estimators=64, oob_score=True; total time=   0.0s\n",
      "[CV] END bootstrap=True, max_features=5, n_estimators=64, oob_score=True; total time=   0.0s\n",
      "[CV] END bootstrap=True, max_features=5, n_estimators=64, oob_score=True; total time=   0.0s\n",
      "[CV] END bootstrap=True, max_features=5, n_estimators=64, oob_score=True; total time=   0.0s\n",
      "[CV] END bootstrap=True, max_features=5, n_estimators=64, oob_score=True; total time=   0.0s\n",
      "[CV] END bootstrap=True, max_features=5, n_estimators=64, oob_score=False; total time=   0.0s\n",
      "[CV] END bootstrap=True, max_features=5, n_estimators=64, oob_score=False; total time=   0.0s\n",
      "[CV] END bootstrap=True, max_features=5, n_estimators=64, oob_score=False; total time=   0.0s\n",
      "[CV] END bootstrap=True, max_features=5, n_estimators=64, oob_score=False; total time=   0.0s\n",
      "[CV] END bootstrap=True, max_features=5, n_estimators=64, oob_score=False; total time=   0.0s\n",
      "[CV] END bootstrap=True, max_features=5, n_estimators=100, oob_score=True; total time=   0.0s\n",
      "[CV] END bootstrap=True, max_features=5, n_estimators=100, oob_score=True; total time=   0.0s\n",
      "[CV] END bootstrap=True, max_features=5, n_estimators=100, oob_score=True; total time=   0.0s\n",
      "[CV] END bootstrap=True, max_features=5, n_estimators=100, oob_score=True; total time=   0.0s\n",
      "[CV] END bootstrap=True, max_features=5, n_estimators=100, oob_score=True; total time=   0.0s\n",
      "[CV] END bootstrap=True, max_features=5, n_estimators=100, oob_score=False; total time=   0.0s\n",
      "[CV] END bootstrap=True, max_features=5, n_estimators=100, oob_score=False; total time=   0.0s\n",
      "[CV] END bootstrap=True, max_features=5, n_estimators=100, oob_score=False; total time=   0.0s\n",
      "[CV] END bootstrap=True, max_features=5, n_estimators=100, oob_score=False; total time=   0.0s\n",
      "[CV] END bootstrap=True, max_features=5, n_estimators=100, oob_score=False; total time=   0.0s\n",
      "[CV] END bootstrap=True, max_features=5, n_estimators=128, oob_score=True; total time=   0.0s\n",
      "[CV] END bootstrap=True, max_features=5, n_estimators=128, oob_score=True; total time=   0.0s\n",
      "[CV] END bootstrap=True, max_features=5, n_estimators=128, oob_score=True; total time=   0.0s\n",
      "[CV] END bootstrap=True, max_features=5, n_estimators=128, oob_score=True; total time=   0.0s\n",
      "[CV] END bootstrap=True, max_features=5, n_estimators=128, oob_score=True; total time=   0.0s\n",
      "[CV] END bootstrap=True, max_features=5, n_estimators=128, oob_score=False; total time=   0.0s\n",
      "[CV] END bootstrap=True, max_features=5, n_estimators=128, oob_score=False; total time=   0.0s\n",
      "[CV] END bootstrap=True, max_features=5, n_estimators=128, oob_score=False; total time=   0.0s\n",
      "[CV] END bootstrap=True, max_features=5, n_estimators=128, oob_score=False; total time=   0.0s\n",
      "[CV] END bootstrap=True, max_features=5, n_estimators=128, oob_score=False; total time=   0.0s\n",
      "[CV] END bootstrap=True, max_features=5, n_estimators=200, oob_score=True; total time=   0.1s\n",
      "[CV] END bootstrap=True, max_features=5, n_estimators=200, oob_score=True; total time=   0.1s\n",
      "[CV] END bootstrap=True, max_features=5, n_estimators=200, oob_score=True; total time=   0.1s\n",
      "[CV] END bootstrap=True, max_features=5, n_estimators=200, oob_score=True; total time=   0.1s\n",
      "[CV] END bootstrap=True, max_features=5, n_estimators=200, oob_score=True; total time=   0.1s\n",
      "[CV] END bootstrap=True, max_features=5, n_estimators=200, oob_score=False; total time=   0.0s\n",
      "[CV] END bootstrap=True, max_features=5, n_estimators=200, oob_score=False; total time=   0.0s\n",
      "[CV] END bootstrap=True, max_features=5, n_estimators=200, oob_score=False; total time=   0.1s\n",
      "[CV] END bootstrap=True, max_features=5, n_estimators=200, oob_score=False; total time=   0.1s\n",
      "[CV] END bootstrap=True, max_features=5, n_estimators=200, oob_score=False; total time=   0.0s\n",
      "[CV] END bootstrap=True, max_features=9, n_estimators=64, oob_score=True; total time=   0.0s\n",
      "[CV] END bootstrap=True, max_features=9, n_estimators=64, oob_score=True; total time=   0.0s\n",
      "[CV] END bootstrap=True, max_features=9, n_estimators=64, oob_score=True; total time=   0.0s\n",
      "[CV] END bootstrap=True, max_features=9, n_estimators=64, oob_score=True; total time=   0.0s\n",
      "[CV] END bootstrap=True, max_features=9, n_estimators=64, oob_score=True; total time=   0.0s\n",
      "[CV] END bootstrap=True, max_features=9, n_estimators=64, oob_score=False; total time=   0.0s\n",
      "[CV] END bootstrap=True, max_features=9, n_estimators=64, oob_score=False; total time=   0.0s\n",
      "[CV] END bootstrap=True, max_features=9, n_estimators=64, oob_score=False; total time=   0.0s\n",
      "[CV] END bootstrap=True, max_features=9, n_estimators=64, oob_score=False; total time=   0.0s\n",
      "[CV] END bootstrap=True, max_features=9, n_estimators=64, oob_score=False; total time=   0.0s\n",
      "[CV] END bootstrap=True, max_features=9, n_estimators=100, oob_score=True; total time=   0.0s\n",
      "[CV] END bootstrap=True, max_features=9, n_estimators=100, oob_score=True; total time=   0.0s\n",
      "[CV] END bootstrap=True, max_features=9, n_estimators=100, oob_score=True; total time=   0.0s\n",
      "[CV] END bootstrap=True, max_features=9, n_estimators=100, oob_score=True; total time=   0.0s\n",
      "[CV] END bootstrap=True, max_features=9, n_estimators=100, oob_score=True; total time=   0.0s\n",
      "[CV] END bootstrap=True, max_features=9, n_estimators=100, oob_score=False; total time=   0.0s\n",
      "[CV] END bootstrap=True, max_features=9, n_estimators=100, oob_score=False; total time=   0.0s\n",
      "[CV] END bootstrap=True, max_features=9, n_estimators=100, oob_score=False; total time=   0.0s\n",
      "[CV] END bootstrap=True, max_features=9, n_estimators=100, oob_score=False; total time=   0.0s\n",
      "[CV] END bootstrap=True, max_features=9, n_estimators=100, oob_score=False; total time=   0.0s\n",
      "[CV] END bootstrap=True, max_features=9, n_estimators=128, oob_score=True; total time=   0.0s\n",
      "[CV] END bootstrap=True, max_features=9, n_estimators=128, oob_score=True; total time=   0.0s\n",
      "[CV] END bootstrap=True, max_features=9, n_estimators=128, oob_score=True; total time=   0.0s\n",
      "[CV] END bootstrap=True, max_features=9, n_estimators=128, oob_score=True; total time=   0.0s\n",
      "[CV] END bootstrap=True, max_features=9, n_estimators=128, oob_score=True; total time=   0.0s\n",
      "[CV] END bootstrap=True, max_features=9, n_estimators=128, oob_score=False; total time=   0.0s\n",
      "[CV] END bootstrap=True, max_features=9, n_estimators=128, oob_score=False; total time=   0.0s\n",
      "[CV] END bootstrap=True, max_features=9, n_estimators=128, oob_score=False; total time=   0.0s\n",
      "[CV] END bootstrap=True, max_features=9, n_estimators=128, oob_score=False; total time=   0.0s\n",
      "[CV] END bootstrap=True, max_features=9, n_estimators=128, oob_score=False; total time=   0.0s\n",
      "[CV] END bootstrap=True, max_features=9, n_estimators=200, oob_score=True; total time=   0.1s\n",
      "[CV] END bootstrap=True, max_features=9, n_estimators=200, oob_score=True; total time=   0.1s\n",
      "[CV] END bootstrap=True, max_features=9, n_estimators=200, oob_score=True; total time=   0.1s\n",
      "[CV] END bootstrap=True, max_features=9, n_estimators=200, oob_score=True; total time=   0.1s\n",
      "[CV] END bootstrap=True, max_features=9, n_estimators=200, oob_score=True; total time=   0.1s\n",
      "[CV] END bootstrap=True, max_features=9, n_estimators=200, oob_score=False; total time=   0.0s\n",
      "[CV] END bootstrap=True, max_features=9, n_estimators=200, oob_score=False; total time=   0.1s\n",
      "[CV] END bootstrap=True, max_features=9, n_estimators=200, oob_score=False; total time=   0.1s\n",
      "[CV] END bootstrap=True, max_features=9, n_estimators=200, oob_score=False; total time=   0.1s\n",
      "[CV] END bootstrap=True, max_features=9, n_estimators=200, oob_score=False; total time=   0.0s\n",
      "[CV] END bootstrap=True, max_features=7, n_estimators=64, oob_score=True; total time=   0.0s\n",
      "[CV] END bootstrap=True, max_features=7, n_estimators=64, oob_score=True; total time=   0.0s\n",
      "[CV] END bootstrap=True, max_features=7, n_estimators=64, oob_score=True; total time=   0.0s\n",
      "[CV] END bootstrap=True, max_features=7, n_estimators=64, oob_score=True; total time=   0.0s\n",
      "[CV] END bootstrap=True, max_features=7, n_estimators=64, oob_score=True; total time=   0.0s\n",
      "[CV] END bootstrap=True, max_features=7, n_estimators=64, oob_score=False; total time=   0.0s\n",
      "[CV] END bootstrap=True, max_features=7, n_estimators=64, oob_score=False; total time=   0.0s\n",
      "[CV] END bootstrap=True, max_features=7, n_estimators=64, oob_score=False; total time=   0.0s\n",
      "[CV] END bootstrap=True, max_features=7, n_estimators=64, oob_score=False; total time=   0.0s\n",
      "[CV] END bootstrap=True, max_features=7, n_estimators=64, oob_score=False; total time=   0.0s\n"
     ]
    },
    {
     "name": "stdout",
     "output_type": "stream",
     "text": [
      "[CV] END bootstrap=True, max_features=7, n_estimators=100, oob_score=True; total time=   0.0s\n",
      "[CV] END bootstrap=True, max_features=7, n_estimators=100, oob_score=True; total time=   0.0s\n",
      "[CV] END bootstrap=True, max_features=7, n_estimators=100, oob_score=True; total time=   0.0s\n",
      "[CV] END bootstrap=True, max_features=7, n_estimators=100, oob_score=True; total time=   0.0s\n",
      "[CV] END bootstrap=True, max_features=7, n_estimators=100, oob_score=True; total time=   0.0s\n",
      "[CV] END bootstrap=True, max_features=7, n_estimators=100, oob_score=False; total time=   0.0s\n",
      "[CV] END bootstrap=True, max_features=7, n_estimators=100, oob_score=False; total time=   0.0s\n",
      "[CV] END bootstrap=True, max_features=7, n_estimators=100, oob_score=False; total time=   0.0s\n",
      "[CV] END bootstrap=True, max_features=7, n_estimators=100, oob_score=False; total time=   0.0s\n",
      "[CV] END bootstrap=True, max_features=7, n_estimators=100, oob_score=False; total time=   0.0s\n",
      "[CV] END bootstrap=True, max_features=7, n_estimators=128, oob_score=True; total time=   0.0s\n",
      "[CV] END bootstrap=True, max_features=7, n_estimators=128, oob_score=True; total time=   0.0s\n",
      "[CV] END bootstrap=True, max_features=7, n_estimators=128, oob_score=True; total time=   0.0s\n",
      "[CV] END bootstrap=True, max_features=7, n_estimators=128, oob_score=True; total time=   0.0s\n",
      "[CV] END bootstrap=True, max_features=7, n_estimators=128, oob_score=True; total time=   0.0s\n",
      "[CV] END bootstrap=True, max_features=7, n_estimators=128, oob_score=False; total time=   0.0s\n",
      "[CV] END bootstrap=True, max_features=7, n_estimators=128, oob_score=False; total time=   0.0s\n",
      "[CV] END bootstrap=True, max_features=7, n_estimators=128, oob_score=False; total time=   0.0s\n",
      "[CV] END bootstrap=True, max_features=7, n_estimators=128, oob_score=False; total time=   0.0s\n",
      "[CV] END bootstrap=True, max_features=7, n_estimators=128, oob_score=False; total time=   0.0s\n",
      "[CV] END bootstrap=True, max_features=7, n_estimators=200, oob_score=True; total time=   0.1s\n",
      "[CV] END bootstrap=True, max_features=7, n_estimators=200, oob_score=True; total time=   0.1s\n",
      "[CV] END bootstrap=True, max_features=7, n_estimators=200, oob_score=True; total time=   0.1s\n",
      "[CV] END bootstrap=True, max_features=7, n_estimators=200, oob_score=True; total time=   0.1s\n",
      "[CV] END bootstrap=True, max_features=7, n_estimators=200, oob_score=True; total time=   0.1s\n",
      "[CV] END bootstrap=True, max_features=7, n_estimators=200, oob_score=False; total time=   0.0s\n",
      "[CV] END bootstrap=True, max_features=7, n_estimators=200, oob_score=False; total time=   0.0s\n",
      "[CV] END bootstrap=True, max_features=7, n_estimators=200, oob_score=False; total time=   0.0s\n",
      "[CV] END bootstrap=True, max_features=7, n_estimators=200, oob_score=False; total time=   0.0s\n",
      "[CV] END bootstrap=True, max_features=7, n_estimators=200, oob_score=False; total time=   0.0s\n",
      "[CV] END bootstrap=True, max_features=12, n_estimators=64, oob_score=True; total time=   0.0s\n",
      "[CV] END bootstrap=True, max_features=12, n_estimators=64, oob_score=True; total time=   0.0s\n",
      "[CV] END bootstrap=True, max_features=12, n_estimators=64, oob_score=True; total time=   0.0s\n",
      "[CV] END bootstrap=True, max_features=12, n_estimators=64, oob_score=True; total time=   0.0s\n",
      "[CV] END bootstrap=True, max_features=12, n_estimators=64, oob_score=True; total time=   0.0s\n",
      "[CV] END bootstrap=True, max_features=12, n_estimators=64, oob_score=False; total time=   0.0s\n",
      "[CV] END bootstrap=True, max_features=12, n_estimators=64, oob_score=False; total time=   0.0s\n",
      "[CV] END bootstrap=True, max_features=12, n_estimators=64, oob_score=False; total time=   0.0s\n",
      "[CV] END bootstrap=True, max_features=12, n_estimators=64, oob_score=False; total time=   0.0s\n",
      "[CV] END bootstrap=True, max_features=12, n_estimators=64, oob_score=False; total time=   0.0s\n",
      "[CV] END bootstrap=True, max_features=12, n_estimators=100, oob_score=True; total time=   0.0s\n",
      "[CV] END bootstrap=True, max_features=12, n_estimators=100, oob_score=True; total time=   0.0s\n",
      "[CV] END bootstrap=True, max_features=12, n_estimators=100, oob_score=True; total time=   0.0s\n",
      "[CV] END bootstrap=True, max_features=12, n_estimators=100, oob_score=True; total time=   0.0s\n",
      "[CV] END bootstrap=True, max_features=12, n_estimators=100, oob_score=True; total time=   0.0s\n",
      "[CV] END bootstrap=True, max_features=12, n_estimators=100, oob_score=False; total time=   0.0s\n",
      "[CV] END bootstrap=True, max_features=12, n_estimators=100, oob_score=False; total time=   0.0s\n",
      "[CV] END bootstrap=True, max_features=12, n_estimators=100, oob_score=False; total time=   0.0s\n",
      "[CV] END bootstrap=True, max_features=12, n_estimators=100, oob_score=False; total time=   0.0s\n",
      "[CV] END bootstrap=True, max_features=12, n_estimators=100, oob_score=False; total time=   0.0s\n",
      "[CV] END bootstrap=True, max_features=12, n_estimators=128, oob_score=True; total time=   0.0s\n",
      "[CV] END bootstrap=True, max_features=12, n_estimators=128, oob_score=True; total time=   0.0s\n",
      "[CV] END bootstrap=True, max_features=12, n_estimators=128, oob_score=True; total time=   0.0s\n",
      "[CV] END bootstrap=True, max_features=12, n_estimators=128, oob_score=True; total time=   0.0s\n",
      "[CV] END bootstrap=True, max_features=12, n_estimators=128, oob_score=True; total time=   0.0s\n",
      "[CV] END bootstrap=True, max_features=12, n_estimators=128, oob_score=False; total time=   0.0s\n",
      "[CV] END bootstrap=True, max_features=12, n_estimators=128, oob_score=False; total time=   0.0s\n",
      "[CV] END bootstrap=True, max_features=12, n_estimators=128, oob_score=False; total time=   0.0s\n",
      "[CV] END bootstrap=True, max_features=12, n_estimators=128, oob_score=False; total time=   0.0s\n",
      "[CV] END bootstrap=True, max_features=12, n_estimators=128, oob_score=False; total time=   0.0s\n",
      "[CV] END bootstrap=True, max_features=12, n_estimators=200, oob_score=True; total time=   0.1s\n",
      "[CV] END bootstrap=True, max_features=12, n_estimators=200, oob_score=True; total time=   0.1s\n",
      "[CV] END bootstrap=True, max_features=12, n_estimators=200, oob_score=True; total time=   0.1s\n",
      "[CV] END bootstrap=True, max_features=12, n_estimators=200, oob_score=True; total time=   0.1s\n",
      "[CV] END bootstrap=True, max_features=12, n_estimators=200, oob_score=True; total time=   0.1s\n",
      "[CV] END bootstrap=True, max_features=12, n_estimators=200, oob_score=False; total time=   0.1s\n",
      "[CV] END bootstrap=True, max_features=12, n_estimators=200, oob_score=False; total time=   0.1s\n",
      "[CV] END bootstrap=True, max_features=12, n_estimators=200, oob_score=False; total time=   0.1s\n",
      "[CV] END bootstrap=True, max_features=12, n_estimators=200, oob_score=False; total time=   0.1s\n",
      "[CV] END bootstrap=True, max_features=12, n_estimators=200, oob_score=False; total time=   0.1s\n",
      "[CV] END bootstrap=False, max_features=5, n_estimators=64, oob_score=True; total time=   0.0s\n",
      "[CV] END bootstrap=False, max_features=5, n_estimators=64, oob_score=True; total time=   0.0s\n",
      "[CV] END bootstrap=False, max_features=5, n_estimators=64, oob_score=True; total time=   0.0s\n",
      "[CV] END bootstrap=False, max_features=5, n_estimators=64, oob_score=True; total time=   0.0s\n",
      "[CV] END bootstrap=False, max_features=5, n_estimators=64, oob_score=True; total time=   0.0s\n",
      "[CV] END bootstrap=False, max_features=5, n_estimators=64, oob_score=False; total time=   0.0s\n",
      "[CV] END bootstrap=False, max_features=5, n_estimators=64, oob_score=False; total time=   0.0s\n",
      "[CV] END bootstrap=False, max_features=5, n_estimators=64, oob_score=False; total time=   0.0s\n",
      "[CV] END bootstrap=False, max_features=5, n_estimators=64, oob_score=False; total time=   0.0s\n",
      "[CV] END bootstrap=False, max_features=5, n_estimators=64, oob_score=False; total time=   0.0s\n",
      "[CV] END bootstrap=False, max_features=5, n_estimators=100, oob_score=True; total time=   0.0s\n",
      "[CV] END bootstrap=False, max_features=5, n_estimators=100, oob_score=True; total time=   0.0s\n",
      "[CV] END bootstrap=False, max_features=5, n_estimators=100, oob_score=True; total time=   0.0s\n",
      "[CV] END bootstrap=False, max_features=5, n_estimators=100, oob_score=True; total time=   0.0s\n",
      "[CV] END bootstrap=False, max_features=5, n_estimators=100, oob_score=True; total time=   0.0s\n",
      "[CV] END bootstrap=False, max_features=5, n_estimators=100, oob_score=False; total time=   0.0s\n",
      "[CV] END bootstrap=False, max_features=5, n_estimators=100, oob_score=False; total time=   0.0s\n",
      "[CV] END bootstrap=False, max_features=5, n_estimators=100, oob_score=False; total time=   0.0s\n",
      "[CV] END bootstrap=False, max_features=5, n_estimators=100, oob_score=False; total time=   0.0s\n",
      "[CV] END bootstrap=False, max_features=5, n_estimators=100, oob_score=False; total time=   0.0s\n",
      "[CV] END bootstrap=False, max_features=5, n_estimators=128, oob_score=True; total time=   0.0s\n",
      "[CV] END bootstrap=False, max_features=5, n_estimators=128, oob_score=True; total time=   0.0s\n",
      "[CV] END bootstrap=False, max_features=5, n_estimators=128, oob_score=True; total time=   0.0s\n",
      "[CV] END bootstrap=False, max_features=5, n_estimators=128, oob_score=True; total time=   0.0s\n",
      "[CV] END bootstrap=False, max_features=5, n_estimators=128, oob_score=True; total time=   0.0s\n"
     ]
    },
    {
     "name": "stdout",
     "output_type": "stream",
     "text": [
      "[CV] END bootstrap=False, max_features=5, n_estimators=128, oob_score=False; total time=   0.0s\n",
      "[CV] END bootstrap=False, max_features=5, n_estimators=128, oob_score=False; total time=   0.0s\n",
      "[CV] END bootstrap=False, max_features=5, n_estimators=128, oob_score=False; total time=   0.0s\n",
      "[CV] END bootstrap=False, max_features=5, n_estimators=128, oob_score=False; total time=   0.0s\n",
      "[CV] END bootstrap=False, max_features=5, n_estimators=128, oob_score=False; total time=   0.0s\n",
      "[CV] END bootstrap=False, max_features=5, n_estimators=200, oob_score=True; total time=   0.0s\n",
      "[CV] END bootstrap=False, max_features=5, n_estimators=200, oob_score=True; total time=   0.0s\n",
      "[CV] END bootstrap=False, max_features=5, n_estimators=200, oob_score=True; total time=   0.0s\n",
      "[CV] END bootstrap=False, max_features=5, n_estimators=200, oob_score=True; total time=   0.0s\n",
      "[CV] END bootstrap=False, max_features=5, n_estimators=200, oob_score=True; total time=   0.0s\n",
      "[CV] END bootstrap=False, max_features=5, n_estimators=200, oob_score=False; total time=   0.0s\n",
      "[CV] END bootstrap=False, max_features=5, n_estimators=200, oob_score=False; total time=   0.0s\n",
      "[CV] END bootstrap=False, max_features=5, n_estimators=200, oob_score=False; total time=   0.0s\n",
      "[CV] END bootstrap=False, max_features=5, n_estimators=200, oob_score=False; total time=   0.0s\n",
      "[CV] END bootstrap=False, max_features=5, n_estimators=200, oob_score=False; total time=   0.0s\n",
      "[CV] END bootstrap=False, max_features=9, n_estimators=64, oob_score=True; total time=   0.0s\n",
      "[CV] END bootstrap=False, max_features=9, n_estimators=64, oob_score=True; total time=   0.0s\n",
      "[CV] END bootstrap=False, max_features=9, n_estimators=64, oob_score=True; total time=   0.0s\n",
      "[CV] END bootstrap=False, max_features=9, n_estimators=64, oob_score=True; total time=   0.0s\n",
      "[CV] END bootstrap=False, max_features=9, n_estimators=64, oob_score=True; total time=   0.0s\n",
      "[CV] END bootstrap=False, max_features=9, n_estimators=64, oob_score=False; total time=   0.0s\n",
      "[CV] END bootstrap=False, max_features=9, n_estimators=64, oob_score=False; total time=   0.0s\n",
      "[CV] END bootstrap=False, max_features=9, n_estimators=64, oob_score=False; total time=   0.0s\n",
      "[CV] END bootstrap=False, max_features=9, n_estimators=64, oob_score=False; total time=   0.0s\n",
      "[CV] END bootstrap=False, max_features=9, n_estimators=64, oob_score=False; total time=   0.0s\n",
      "[CV] END bootstrap=False, max_features=9, n_estimators=100, oob_score=True; total time=   0.0s\n",
      "[CV] END bootstrap=False, max_features=9, n_estimators=100, oob_score=True; total time=   0.0s\n",
      "[CV] END bootstrap=False, max_features=9, n_estimators=100, oob_score=True; total time=   0.0s\n",
      "[CV] END bootstrap=False, max_features=9, n_estimators=100, oob_score=True; total time=   0.0s\n",
      "[CV] END bootstrap=False, max_features=9, n_estimators=100, oob_score=True; total time=   0.0s\n",
      "[CV] END bootstrap=False, max_features=9, n_estimators=100, oob_score=False; total time=   0.0s\n",
      "[CV] END bootstrap=False, max_features=9, n_estimators=100, oob_score=False; total time=   0.0s\n",
      "[CV] END bootstrap=False, max_features=9, n_estimators=100, oob_score=False; total time=   0.0s\n",
      "[CV] END bootstrap=False, max_features=9, n_estimators=100, oob_score=False; total time=   0.0s\n",
      "[CV] END bootstrap=False, max_features=9, n_estimators=100, oob_score=False; total time=   0.0s\n",
      "[CV] END bootstrap=False, max_features=9, n_estimators=128, oob_score=True; total time=   0.0s\n",
      "[CV] END bootstrap=False, max_features=9, n_estimators=128, oob_score=True; total time=   0.0s\n",
      "[CV] END bootstrap=False, max_features=9, n_estimators=128, oob_score=True; total time=   0.0s\n",
      "[CV] END bootstrap=False, max_features=9, n_estimators=128, oob_score=True; total time=   0.0s\n",
      "[CV] END bootstrap=False, max_features=9, n_estimators=128, oob_score=True; total time=   0.0s\n",
      "[CV] END bootstrap=False, max_features=9, n_estimators=128, oob_score=False; total time=   0.0s\n",
      "[CV] END bootstrap=False, max_features=9, n_estimators=128, oob_score=False; total time=   0.0s\n",
      "[CV] END bootstrap=False, max_features=9, n_estimators=128, oob_score=False; total time=   0.0s\n",
      "[CV] END bootstrap=False, max_features=9, n_estimators=128, oob_score=False; total time=   0.0s\n",
      "[CV] END bootstrap=False, max_features=9, n_estimators=128, oob_score=False; total time=   0.0s\n",
      "[CV] END bootstrap=False, max_features=9, n_estimators=200, oob_score=True; total time=   0.0s\n",
      "[CV] END bootstrap=False, max_features=9, n_estimators=200, oob_score=True; total time=   0.0s\n",
      "[CV] END bootstrap=False, max_features=9, n_estimators=200, oob_score=True; total time=   0.0s\n",
      "[CV] END bootstrap=False, max_features=9, n_estimators=200, oob_score=True; total time=   0.0s\n",
      "[CV] END bootstrap=False, max_features=9, n_estimators=200, oob_score=True; total time=   0.0s\n",
      "[CV] END bootstrap=False, max_features=9, n_estimators=200, oob_score=False; total time=   0.0s\n",
      "[CV] END bootstrap=False, max_features=9, n_estimators=200, oob_score=False; total time=   0.0s\n",
      "[CV] END bootstrap=False, max_features=9, n_estimators=200, oob_score=False; total time=   0.0s\n",
      "[CV] END bootstrap=False, max_features=9, n_estimators=200, oob_score=False; total time=   0.0s\n",
      "[CV] END bootstrap=False, max_features=9, n_estimators=200, oob_score=False; total time=   0.0s\n",
      "[CV] END bootstrap=False, max_features=7, n_estimators=64, oob_score=True; total time=   0.0s\n",
      "[CV] END bootstrap=False, max_features=7, n_estimators=64, oob_score=True; total time=   0.0s\n",
      "[CV] END bootstrap=False, max_features=7, n_estimators=64, oob_score=True; total time=   0.0s\n",
      "[CV] END bootstrap=False, max_features=7, n_estimators=64, oob_score=True; total time=   0.0s\n",
      "[CV] END bootstrap=False, max_features=7, n_estimators=64, oob_score=True; total time=   0.0s\n",
      "[CV] END bootstrap=False, max_features=7, n_estimators=64, oob_score=False; total time=   0.0s\n",
      "[CV] END bootstrap=False, max_features=7, n_estimators=64, oob_score=False; total time=   0.0s\n",
      "[CV] END bootstrap=False, max_features=7, n_estimators=64, oob_score=False; total time=   0.0s\n",
      "[CV] END bootstrap=False, max_features=7, n_estimators=64, oob_score=False; total time=   0.0s\n",
      "[CV] END bootstrap=False, max_features=7, n_estimators=64, oob_score=False; total time=   0.0s\n",
      "[CV] END bootstrap=False, max_features=7, n_estimators=100, oob_score=True; total time=   0.0s\n",
      "[CV] END bootstrap=False, max_features=7, n_estimators=100, oob_score=True; total time=   0.0s\n",
      "[CV] END bootstrap=False, max_features=7, n_estimators=100, oob_score=True; total time=   0.0s\n",
      "[CV] END bootstrap=False, max_features=7, n_estimators=100, oob_score=True; total time=   0.0s\n",
      "[CV] END bootstrap=False, max_features=7, n_estimators=100, oob_score=True; total time=   0.0s\n",
      "[CV] END bootstrap=False, max_features=7, n_estimators=100, oob_score=False; total time=   0.0s\n",
      "[CV] END bootstrap=False, max_features=7, n_estimators=100, oob_score=False; total time=   0.0s\n",
      "[CV] END bootstrap=False, max_features=7, n_estimators=100, oob_score=False; total time=   0.0s\n",
      "[CV] END bootstrap=False, max_features=7, n_estimators=100, oob_score=False; total time=   0.0s\n",
      "[CV] END bootstrap=False, max_features=7, n_estimators=100, oob_score=False; total time=   0.0s\n",
      "[CV] END bootstrap=False, max_features=7, n_estimators=128, oob_score=True; total time=   0.0s\n",
      "[CV] END bootstrap=False, max_features=7, n_estimators=128, oob_score=True; total time=   0.0s\n",
      "[CV] END bootstrap=False, max_features=7, n_estimators=128, oob_score=True; total time=   0.0s\n",
      "[CV] END bootstrap=False, max_features=7, n_estimators=128, oob_score=True; total time=   0.0s\n",
      "[CV] END bootstrap=False, max_features=7, n_estimators=128, oob_score=True; total time=   0.0s\n",
      "[CV] END bootstrap=False, max_features=7, n_estimators=128, oob_score=False; total time=   0.0s\n",
      "[CV] END bootstrap=False, max_features=7, n_estimators=128, oob_score=False; total time=   0.0s\n",
      "[CV] END bootstrap=False, max_features=7, n_estimators=128, oob_score=False; total time=   0.0s\n",
      "[CV] END bootstrap=False, max_features=7, n_estimators=128, oob_score=False; total time=   0.0s\n",
      "[CV] END bootstrap=False, max_features=7, n_estimators=128, oob_score=False; total time=   0.0s\n",
      "[CV] END bootstrap=False, max_features=7, n_estimators=200, oob_score=True; total time=   0.0s\n",
      "[CV] END bootstrap=False, max_features=7, n_estimators=200, oob_score=True; total time=   0.0s\n",
      "[CV] END bootstrap=False, max_features=7, n_estimators=200, oob_score=True; total time=   0.0s\n",
      "[CV] END bootstrap=False, max_features=7, n_estimators=200, oob_score=True; total time=   0.0s\n",
      "[CV] END bootstrap=False, max_features=7, n_estimators=200, oob_score=True; total time=   0.0s\n"
     ]
    },
    {
     "name": "stdout",
     "output_type": "stream",
     "text": [
      "[CV] END bootstrap=False, max_features=7, n_estimators=200, oob_score=False; total time=   0.0s\n",
      "[CV] END bootstrap=False, max_features=7, n_estimators=200, oob_score=False; total time=   0.0s\n",
      "[CV] END bootstrap=False, max_features=7, n_estimators=200, oob_score=False; total time=   0.0s\n",
      "[CV] END bootstrap=False, max_features=7, n_estimators=200, oob_score=False; total time=   0.0s\n",
      "[CV] END bootstrap=False, max_features=7, n_estimators=200, oob_score=False; total time=   0.0s\n",
      "[CV] END bootstrap=False, max_features=12, n_estimators=64, oob_score=True; total time=   0.0s\n",
      "[CV] END bootstrap=False, max_features=12, n_estimators=64, oob_score=True; total time=   0.0s\n",
      "[CV] END bootstrap=False, max_features=12, n_estimators=64, oob_score=True; total time=   0.0s\n",
      "[CV] END bootstrap=False, max_features=12, n_estimators=64, oob_score=True; total time=   0.0s\n",
      "[CV] END bootstrap=False, max_features=12, n_estimators=64, oob_score=True; total time=   0.0s\n",
      "[CV] END bootstrap=False, max_features=12, n_estimators=64, oob_score=False; total time=   0.0s\n",
      "[CV] END bootstrap=False, max_features=12, n_estimators=64, oob_score=False; total time=   0.0s\n",
      "[CV] END bootstrap=False, max_features=12, n_estimators=64, oob_score=False; total time=   0.0s\n",
      "[CV] END bootstrap=False, max_features=12, n_estimators=64, oob_score=False; total time=   0.0s\n",
      "[CV] END bootstrap=False, max_features=12, n_estimators=64, oob_score=False; total time=   0.0s\n",
      "[CV] END bootstrap=False, max_features=12, n_estimators=100, oob_score=True; total time=   0.0s\n",
      "[CV] END bootstrap=False, max_features=12, n_estimators=100, oob_score=True; total time=   0.0s\n",
      "[CV] END bootstrap=False, max_features=12, n_estimators=100, oob_score=True; total time=   0.0s\n",
      "[CV] END bootstrap=False, max_features=12, n_estimators=100, oob_score=True; total time=   0.0s\n",
      "[CV] END bootstrap=False, max_features=12, n_estimators=100, oob_score=True; total time=   0.0s\n",
      "[CV] END bootstrap=False, max_features=12, n_estimators=100, oob_score=False; total time=   0.0s\n",
      "[CV] END bootstrap=False, max_features=12, n_estimators=100, oob_score=False; total time=   0.0s\n",
      "[CV] END bootstrap=False, max_features=12, n_estimators=100, oob_score=False; total time=   0.0s\n",
      "[CV] END bootstrap=False, max_features=12, n_estimators=100, oob_score=False; total time=   0.0s\n",
      "[CV] END bootstrap=False, max_features=12, n_estimators=100, oob_score=False; total time=   0.0s\n",
      "[CV] END bootstrap=False, max_features=12, n_estimators=128, oob_score=True; total time=   0.0s\n",
      "[CV] END bootstrap=False, max_features=12, n_estimators=128, oob_score=True; total time=   0.0s\n",
      "[CV] END bootstrap=False, max_features=12, n_estimators=128, oob_score=True; total time=   0.0s\n",
      "[CV] END bootstrap=False, max_features=12, n_estimators=128, oob_score=True; total time=   0.0s\n",
      "[CV] END bootstrap=False, max_features=12, n_estimators=128, oob_score=True; total time=   0.0s\n",
      "[CV] END bootstrap=False, max_features=12, n_estimators=128, oob_score=False; total time=   0.0s\n",
      "[CV] END bootstrap=False, max_features=12, n_estimators=128, oob_score=False; total time=   0.0s\n",
      "[CV] END bootstrap=False, max_features=12, n_estimators=128, oob_score=False; total time=   0.0s\n",
      "[CV] END bootstrap=False, max_features=12, n_estimators=128, oob_score=False; total time=   0.0s\n",
      "[CV] END bootstrap=False, max_features=12, n_estimators=128, oob_score=False; total time=   0.0s\n",
      "[CV] END bootstrap=False, max_features=12, n_estimators=200, oob_score=True; total time=   0.0s\n",
      "[CV] END bootstrap=False, max_features=12, n_estimators=200, oob_score=True; total time=   0.0s\n",
      "[CV] END bootstrap=False, max_features=12, n_estimators=200, oob_score=True; total time=   0.0s\n",
      "[CV] END bootstrap=False, max_features=12, n_estimators=200, oob_score=True; total time=   0.0s\n",
      "[CV] END bootstrap=False, max_features=12, n_estimators=200, oob_score=True; total time=   0.0s\n",
      "[CV] END bootstrap=False, max_features=12, n_estimators=200, oob_score=False; total time=   0.0s\n",
      "[CV] END bootstrap=False, max_features=12, n_estimators=200, oob_score=False; total time=   0.0s\n",
      "[CV] END bootstrap=False, max_features=12, n_estimators=200, oob_score=False; total time=   0.0s\n",
      "[CV] END bootstrap=False, max_features=12, n_estimators=200, oob_score=False; total time=   0.0s\n",
      "[CV] END bootstrap=False, max_features=12, n_estimators=200, oob_score=False; total time=   0.0s\n"
     ]
    },
    {
     "name": "stderr",
     "output_type": "stream",
     "text": [
      "C:\\Users\\udaya\\anaconda3\\lib\\site-packages\\sklearn\\model_selection\\_validation.py:372: FitFailedWarning: \n",
      "80 fits failed out of a total of 320.\n",
      "The score on these train-test partitions for these parameters will be set to nan.\n",
      "If these failures are not expected, you can try to debug them by setting error_score='raise'.\n",
      "\n",
      "Below are more details about the failures:\n",
      "--------------------------------------------------------------------------------\n",
      "80 fits failed with the following error:\n",
      "Traceback (most recent call last):\n",
      "  File \"C:\\Users\\udaya\\anaconda3\\lib\\site-packages\\sklearn\\model_selection\\_validation.py\", line 680, in _fit_and_score\n",
      "    estimator.fit(X_train, y_train, **fit_params)\n",
      "  File \"C:\\Users\\udaya\\anaconda3\\lib\\site-packages\\sklearn\\ensemble\\_forest.py\", line 411, in fit\n",
      "    raise ValueError(\"Out of bag estimation only available if bootstrap=True\")\n",
      "ValueError: Out of bag estimation only available if bootstrap=True\n",
      "\n",
      "  warnings.warn(some_fits_failed_message, FitFailedWarning)\n",
      "C:\\Users\\udaya\\anaconda3\\lib\\site-packages\\sklearn\\model_selection\\_search.py:969: UserWarning: One or more of the test scores are non-finite: [0.78829268 0.80304878 0.79317073 0.80304878 0.80792683 0.80304878\n",
      " 0.80780488 0.79317073 0.79317073 0.77841463 0.78841463 0.78829268\n",
      " 0.78829268 0.79317073 0.78341463 0.80317073 0.80292683 0.78329268\n",
      " 0.79341463 0.77865854 0.79792683 0.79317073 0.79292683 0.80792683\n",
      " 0.79829268 0.80804878 0.79817073 0.77841463 0.78841463 0.79817073\n",
      " 0.78829268 0.77378049        nan 0.78353659        nan 0.78341463\n",
      "        nan 0.77841463        nan 0.76365854        nan 0.75865854\n",
      "        nan 0.77841463        nan 0.77841463        nan 0.75378049\n",
      "        nan 0.77341463        nan 0.79341463        nan 0.77841463\n",
      "        nan 0.78341463        nan 0.75865854        nan 0.76365854\n",
      "        nan 0.75378049        nan 0.75865854]\n",
      "  warnings.warn(\n"
     ]
    },
    {
     "data": {
      "text/plain": [
       "GridSearchCV(estimator=RandomForestClassifier(),\n",
       "             param_grid={'bootstrap': [True, False],\n",
       "                         'max_features': [5, 9, 7, 12],\n",
       "                         'n_estimators': [64, 100, 128, 200],\n",
       "                         'oob_score': [True, False]},\n",
       "             verbose=2)"
      ]
     },
     "execution_count": 42,
     "metadata": {},
     "output_type": "execute_result"
    }
   ],
   "source": [
    "grid_model.fit(X_train,y_train)"
   ]
  },
  {
   "cell_type": "code",
   "execution_count": 43,
   "id": "7dc31dab",
   "metadata": {},
   "outputs": [
    {
     "data": {
      "text/plain": [
       "{'bootstrap': True, 'max_features': 12, 'n_estimators': 64, 'oob_score': False}"
      ]
     },
     "execution_count": 43,
     "metadata": {},
     "output_type": "execute_result"
    }
   ],
   "source": [
    "grid_model.best_params_"
   ]
  },
  {
   "cell_type": "code",
   "execution_count": 44,
   "id": "6d941853",
   "metadata": {},
   "outputs": [
    {
     "data": {
      "text/plain": [
       "RandomForestClassifier(max_features=12, n_estimators=64)"
      ]
     },
     "execution_count": 44,
     "metadata": {},
     "output_type": "execute_result"
    }
   ],
   "source": [
    "grid_model.best_estimator_"
   ]
  },
  {
   "cell_type": "code",
   "execution_count": 45,
   "id": "94149360",
   "metadata": {},
   "outputs": [],
   "source": [
    "model=RandomForestClassifier(n_estimators=64,max_features=12)"
   ]
  },
  {
   "cell_type": "code",
   "execution_count": 46,
   "id": "12923fd3",
   "metadata": {},
   "outputs": [
    {
     "data": {
      "text/plain": [
       "RandomForestClassifier(max_features=12, n_estimators=64)"
      ]
     },
     "execution_count": 46,
     "metadata": {},
     "output_type": "execute_result"
    }
   ],
   "source": [
    "model.fit(X_train,y_train)"
   ]
  },
  {
   "cell_type": "code",
   "execution_count": 50,
   "id": "ab852dbc",
   "metadata": {},
   "outputs": [],
   "source": [
    "from sklearn.metrics import accuracy_score\n",
    "prediction = model.predict(X_test)\n",
    "accuracy = accuracy_score(prediction, y_test)"
   ]
  },
  {
   "cell_type": "code",
   "execution_count": 51,
   "id": "41746f7f",
   "metadata": {},
   "outputs": [
    {
     "data": {
      "text/plain": [
       "0.84"
      ]
     },
     "execution_count": 51,
     "metadata": {},
     "output_type": "execute_result"
    }
   ],
   "source": [
    "accuracy"
   ]
  },
  {
   "cell_type": "code",
   "execution_count": 57,
   "id": "75c7c684",
   "metadata": {},
   "outputs": [],
   "source": [
    "from sklearn.tree import plot_tree\n",
    "from sklearn.metrics import plot_confusion_matrix,classification_report"
   ]
  },
  {
   "cell_type": "code",
   "execution_count": 58,
   "id": "6af8b398",
   "metadata": {},
   "outputs": [
    {
     "name": "stderr",
     "output_type": "stream",
     "text": [
      "C:\\Users\\udaya\\anaconda3\\lib\\site-packages\\sklearn\\utils\\deprecation.py:87: FutureWarning: Function plot_confusion_matrix is deprecated; Function `plot_confusion_matrix` is deprecated in 1.0 and will be removed in 1.2. Use one of the class methods: ConfusionMatrixDisplay.from_predictions or ConfusionMatrixDisplay.from_estimator.\n",
      "  warnings.warn(msg, category=FutureWarning)\n"
     ]
    },
    {
     "data": {
      "text/plain": [
       "<sklearn.metrics._plot.confusion_matrix.ConfusionMatrixDisplay at 0x1f0cbd4dbe0>"
      ]
     },
     "execution_count": 58,
     "metadata": {},
     "output_type": "execute_result"
    },
    {
     "data": {
      "image/png": "[encoded data removed]",
      "text/plain": [
       "<Figure size 640x480 with 2 Axes>"
      ]
     },
     "metadata": {},
     "output_type": "display_data"
    }
   ],
   "source": [
    "plot_confusion_matrix(model,X_test,y_test)"
   ]
  },
  {
   "cell_type": "code",
   "execution_count": 61,
   "id": "3b0de5fd",
   "metadata": {},
   "outputs": [],
   "source": [
    "def report_model(model):\n",
    "    model_preds=model.predict(X_test)\n",
    "    print(classification_report(y_test,model_preds))"
   ]
  },
  {
   "cell_type": "code",
   "execution_count": 62,
   "id": "930b35d8",
   "metadata": {},
   "outputs": [
    {
     "name": "stdout",
     "output_type": "stream",
     "text": [
      "              precision    recall  f1-score   support\n",
      "\n",
      "           0       0.80      0.83      0.81        42\n",
      "           1       0.88      0.84      0.86        58\n",
      "\n",
      "    accuracy                           0.84       100\n",
      "   macro avg       0.84      0.84      0.84       100\n",
      "weighted avg       0.84      0.84      0.84       100\n",
      "\n"
     ]
    }
   ],
   "source": [
    "report_model(model)"
   ]
  },
  {
   "cell_type": "code",
   "execution_count": 63,
   "id": "6ba891e1",
   "metadata": {},
   "outputs": [],
   "source": [
    "import pickle"
   ]
  },
  {
   "cell_type": "code",
   "execution_count": 65,
   "id": "142ffcc7",
   "metadata": {},
   "outputs": [],
   "source": [
    "pickle.dump(model,open('heart_model.pkl','wb'))"
   ]
  },
  {
   "cell_type": "code",
   "execution_count": 66,
   "id": "368ac29a",
   "metadata": {},
   "outputs": [],
   "source": [
    "loaded_model = pickle.load(open('heart_model.pkl', 'rb'))"
   ]
  },
  {
   "cell_type": "code",
   "execution_count": 68,
   "id": "286ecc66",
   "metadata": {},
   "outputs": [
    {
     "name": "stdout",
     "output_type": "stream",
     "text": [
      "age\n",
      "sex\n",
      "cp\n",
      "trestbps\n",
      "chol\n",
      "fbs\n",
      "restecg\n",
      "thalach\n",
      "exang\n",
      "oldpeak\n",
      "slope\n",
      "ca\n",
      "thal\n"
     ]
    }
   ],
   "source": [
    "for i in X.columns:\n",
    "    print(i)"
   ]
  },
  {
   "cell_type": "code",
   "execution_count": null,
   "id": "649a91a9",
   "metadata": {},
   "outputs": [],
   "source": []
  }
 ],
 "metadata": {
  "kernelspec": {
   "display_name": "Python 3 (ipykernel)",
   "language": "python",
   "name": "python3"
  },
  "language_info": {
   "codemirror_mode": {
    "name": "ipython",
    "version": 3
   },
   "file_extension": ".py",
   "mimetype": "text/x-python",
   "name": "python",
   "nbconvert_exporter": "python",
   "pygments_lexer": "ipython3",
   "version": "3.9.13"
  }
 },
 "nbformat": 4,
 "nbformat_minor": 5
}
